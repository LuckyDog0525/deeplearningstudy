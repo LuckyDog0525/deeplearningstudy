{
  "nbformat": 4,
  "nbformat_minor": 0,
  "metadata": {
    "colab": {
      "provenance": []
    },
    "kernelspec": {
      "name": "python3",
      "display_name": "Python 3"
    },
    "language_info": {
      "name": "python"
    }
  },
  "cells": [
    {
      "cell_type": "code",
      "source": [
        "!pip3 install torch\n",
        "!pip3 install torchvision\n",
        "!pip3 install netCDF4\n",
        "from google.colab import drive\n",
        "drive.mount('/content/drive')"
      ],
      "metadata": {
        "colab": {
          "base_uri": "https://localhost:8080/"
        },
        "id": "AmPYzTES1l2e",
        "outputId": "de62b5d9-b77a-4dc9-b9a0-93a16fe449a0"
      },
      "execution_count": 5,
      "outputs": [
        {
          "output_type": "stream",
          "name": "stdout",
          "text": [
            "Requirement already satisfied: torch in /usr/local/lib/python3.10/dist-packages (2.4.1+cu121)\n",
            "Requirement already satisfied: filelock in /usr/local/lib/python3.10/dist-packages (from torch) (3.16.1)\n",
            "Requirement already satisfied: typing-extensions>=4.8.0 in /usr/local/lib/python3.10/dist-packages (from torch) (4.12.2)\n",
            "Requirement already satisfied: sympy in /usr/local/lib/python3.10/dist-packages (from torch) (1.13.3)\n",
            "Requirement already satisfied: networkx in /usr/local/lib/python3.10/dist-packages (from torch) (3.3)\n",
            "Requirement already satisfied: jinja2 in /usr/local/lib/python3.10/dist-packages (from torch) (3.1.4)\n",
            "Requirement already satisfied: fsspec in /usr/local/lib/python3.10/dist-packages (from torch) (2024.6.1)\n",
            "Requirement already satisfied: MarkupSafe>=2.0 in /usr/local/lib/python3.10/dist-packages (from jinja2->torch) (2.1.5)\n",
            "Requirement already satisfied: mpmath<1.4,>=1.1.0 in /usr/local/lib/python3.10/dist-packages (from sympy->torch) (1.3.0)\n",
            "Requirement already satisfied: torchvision in /usr/local/lib/python3.10/dist-packages (0.19.1+cu121)\n",
            "Requirement already satisfied: numpy in /usr/local/lib/python3.10/dist-packages (from torchvision) (1.26.4)\n",
            "Requirement already satisfied: torch==2.4.1 in /usr/local/lib/python3.10/dist-packages (from torchvision) (2.4.1+cu121)\n",
            "Requirement already satisfied: pillow!=8.3.*,>=5.3.0 in /usr/local/lib/python3.10/dist-packages (from torchvision) (10.4.0)\n",
            "Requirement already satisfied: filelock in /usr/local/lib/python3.10/dist-packages (from torch==2.4.1->torchvision) (3.16.1)\n",
            "Requirement already satisfied: typing-extensions>=4.8.0 in /usr/local/lib/python3.10/dist-packages (from torch==2.4.1->torchvision) (4.12.2)\n",
            "Requirement already satisfied: sympy in /usr/local/lib/python3.10/dist-packages (from torch==2.4.1->torchvision) (1.13.3)\n",
            "Requirement already satisfied: networkx in /usr/local/lib/python3.10/dist-packages (from torch==2.4.1->torchvision) (3.3)\n",
            "Requirement already satisfied: jinja2 in /usr/local/lib/python3.10/dist-packages (from torch==2.4.1->torchvision) (3.1.4)\n",
            "Requirement already satisfied: fsspec in /usr/local/lib/python3.10/dist-packages (from torch==2.4.1->torchvision) (2024.6.1)\n",
            "Requirement already satisfied: MarkupSafe>=2.0 in /usr/local/lib/python3.10/dist-packages (from jinja2->torch==2.4.1->torchvision) (2.1.5)\n",
            "Requirement already satisfied: mpmath<1.4,>=1.1.0 in /usr/local/lib/python3.10/dist-packages (from sympy->torch==2.4.1->torchvision) (1.3.0)\n",
            "Collecting netCDF4\n",
            "  Downloading netCDF4-1.7.1.post2-cp310-cp310-manylinux_2_17_x86_64.manylinux2014_x86_64.whl.metadata (1.8 kB)\n",
            "Collecting cftime (from netCDF4)\n",
            "  Downloading cftime-1.6.4-cp310-cp310-manylinux_2_17_x86_64.manylinux2014_x86_64.whl.metadata (8.7 kB)\n",
            "Requirement already satisfied: certifi in /usr/local/lib/python3.10/dist-packages (from netCDF4) (2024.8.30)\n",
            "Requirement already satisfied: numpy in /usr/local/lib/python3.10/dist-packages (from netCDF4) (1.26.4)\n",
            "Downloading netCDF4-1.7.1.post2-cp310-cp310-manylinux_2_17_x86_64.manylinux2014_x86_64.whl (9.0 MB)\n",
            "\u001b[2K   \u001b[90m━━━━━━━━━━━━━━━━━━━━━━━━━━━━━━━━━━━━━━━━\u001b[0m \u001b[32m9.0/9.0 MB\u001b[0m \u001b[31m61.8 MB/s\u001b[0m eta \u001b[36m0:00:00\u001b[0m\n",
            "\u001b[?25hDownloading cftime-1.6.4-cp310-cp310-manylinux_2_17_x86_64.manylinux2014_x86_64.whl (1.3 MB)\n",
            "\u001b[2K   \u001b[90m━━━━━━━━━━━━━━━━━━━━━━━━━━━━━━━━━━━━━━━━\u001b[0m \u001b[32m1.3/1.3 MB\u001b[0m \u001b[31m40.1 MB/s\u001b[0m eta \u001b[36m0:00:00\u001b[0m\n",
            "\u001b[?25hInstalling collected packages: cftime, netCDF4\n",
            "Successfully installed cftime-1.6.4 netCDF4-1.7.1.post2\n",
            "Drive already mounted at /content/drive; to attempt to forcibly remount, call drive.mount(\"/content/drive\", force_remount=True).\n"
          ]
        }
      ]
    },
    {
      "cell_type": "code",
      "execution_count": 33,
      "metadata": {
        "id": "QSZMo6Tfoln5"
      },
      "outputs": [],
      "source": [
        "import matplotlib.pyplot as plt\n",
        "import torch\n",
        "from torch import optim as op\n",
        "import torch.nn as nn\n",
        "from torch.utils.data import Dataset, DataLoader\n",
        "from torchvision.datasets import MNIST\n",
        "from torchvision.transforms import ToTensor\n",
        "\n",
        "class BaseClassifier(nn.Module):\n",
        "  def __init__(self, indim, featdim, outdim):\n",
        "    super(BaseClassifier, self).__init__()\n",
        "    self.classifier = nn.Sequential(\n",
        "        nn.Linear(indim, featdim, bias=True),\n",
        "        nn.ReLU(),\n",
        "        nn.Linear(featdim, outdim, bias=True)\n",
        "    )\n",
        "  def forward(self,x):\n",
        "    return self.classifier(x)\n",
        "\n",
        "traindataset = MNIST(\".\", train=True, download=True, transform=ToTensor())\n",
        "testdataset = MNIST(\".\", train=False, download=True, transform=ToTensor())\n",
        "\n",
        "trainloader = DataLoader(traindataset, batch_size=64, shuffle=True)\n",
        "testloader = DataLoader(testdataset, batch_size=64, shuffle=False)\n",
        "\n",
        "\n",
        "indim, featdim, outdim = 784, 256, 10\n",
        "lr = 1e-4\n",
        "lossfn = nn.CrossEntropyLoss()\n",
        "epochs = 40\n",
        "classifier = BaseClassifier(indim, featdim, outdim)\n",
        "optimizer = op.SGD(classifier.parameters(), lr=lr)\n",
        "\n",
        "def train(classifier=classifier, optimizer=optimizer, lossfn=lossfn, epochs=epochs):\n",
        "  classifier.train()\n",
        "  losslt = []\n",
        "  for epoch in range(epochs):\n",
        "    runningloss = 0.0\n",
        "    for minibatch in trainloader:\n",
        "      data, target = minibatch\n",
        "      data = data.flatten(start_dim=1)\n",
        "      out = classifier(data)\n",
        "      computedloss = lossfn(out, target)\n",
        "      computedloss.backward()\n",
        "      optimizer.step()\n",
        "      optimizer.zero_grad()\n",
        "      runningloss += computedloss.item()\n",
        "    losslt.append(runningloss/len(trainloader))\n",
        "    print(\"Epoch: {} train loss: {}\".format(epoch+1, runningloss/len(trainloader)))\n",
        "  plt.plot([i for i in range(1,epochs+1)],losslt)\n",
        "  plt.xlabel(\"Epoch\")\n",
        "  plt.ylabel(\"Training Loss\")\n",
        "  plt.title(\"MNIST Training Loss: optimizer {} , lr {}\".format(\"SGD\",lr))\n",
        "  plt.show()\n",
        "  torch.save(classifier.state_dict(), \"mnist.pt\")\n",
        "\n",
        "def test(classifier = classifier, lossfn = lossfn):\n",
        "  classifier.eval()\n",
        "  accuracy = 0.0\n",
        "  computedloss = 0.0\n",
        "\n",
        "  with torch.no_grad():\n",
        "    for data, target in testloader:\n",
        "      data = data.flatten(start_dim=1)\n",
        "      out = classifier(data)\n",
        "      _,preds = out.max(dim=1)\n",
        "\n",
        "      computedloss += lossfn(out,target)\n",
        "      accuracy += (preds == target).sum()\n",
        "    accuracy = accuracy / len(testloader.dataset) * 100\n",
        "    print(\"Test loss: {}, test accuracy: {}\".format(computedloss.item()/(len(testloader)*64), accuracy))"
      ]
    },
    {
      "cell_type": "code",
      "source": [
        "train()"
      ],
      "metadata": {
        "colab": {
          "base_uri": "https://localhost:8080/",
          "height": 1000
        },
        "id": "eP1ngnDUXbyc",
        "outputId": "29168e1e-091c-4940-e3e3-246e940d0aac"
      },
      "execution_count": 34,
      "outputs": [
        {
          "output_type": "stream",
          "name": "stdout",
          "text": [
            "Epoch: 1 train loss: 2.297626793257463\n",
            "Epoch: 2 train loss: 2.2803114345078783\n",
            "Epoch: 3 train loss: 2.2630314771046263\n",
            "Epoch: 4 train loss: 2.2455962792134234\n",
            "Epoch: 5 train loss: 2.2279192519340434\n",
            "Epoch: 6 train loss: 2.2098245379258827\n",
            "Epoch: 7 train loss: 2.1912356942955618\n",
            "Epoch: 8 train loss: 2.172051940391313\n",
            "Epoch: 9 train loss: 2.1522446143855927\n",
            "Epoch: 10 train loss: 2.1316909218139486\n",
            "Epoch: 11 train loss: 2.110346743801255\n",
            "Epoch: 12 train loss: 2.0881556445347473\n",
            "Epoch: 13 train loss: 2.0650785260363174\n",
            "Epoch: 14 train loss: 2.0411847001199783\n",
            "Epoch: 15 train loss: 2.0163440506087182\n",
            "Epoch: 16 train loss: 1.9906453664368913\n",
            "Epoch: 17 train loss: 1.9639732769049052\n",
            "Epoch: 18 train loss: 1.936522518775102\n",
            "Epoch: 19 train loss: 1.908172448306704\n",
            "Epoch: 20 train loss: 1.8790608176798709\n",
            "Epoch: 21 train loss: 1.8492869311558413\n",
            "Epoch: 22 train loss: 1.8187615379595807\n",
            "Epoch: 23 train loss: 1.7876735951092197\n",
            "Epoch: 24 train loss: 1.7561032235749494\n",
            "Epoch: 25 train loss: 1.7240830774246247\n",
            "Epoch: 26 train loss: 1.691785311139723\n",
            "Epoch: 27 train loss: 1.659282131108648\n",
            "Epoch: 28 train loss: 1.6265511839374551\n",
            "Epoch: 29 train loss: 1.5938465690561958\n",
            "Epoch: 30 train loss: 1.5612715002316147\n",
            "Epoch: 31 train loss: 1.5288731194\n",
            "Epoch: 32 train loss: 1.496695247286164\n",
            "Epoch: 33 train loss: 1.4648812295023057\n",
            "Epoch: 34 train loss: 1.4336666889282177\n",
            "Epoch: 35 train loss: 1.402980881459169\n",
            "Epoch: 36 train loss: 1.3728029365732726\n",
            "Epoch: 37 train loss: 1.3433769087293255\n",
            "Epoch: 38 train loss: 1.3147326660817111\n",
            "Epoch: 39 train loss: 1.2866223049062147\n",
            "Epoch: 40 train loss: 1.2594359782713054\n"
          ]
        },
        {
          "output_type": "display_data",
          "data": {
            "text/plain": [
              "<Figure size 640x480 with 1 Axes>"
            ],
            "image/png": "[encoded data removed]"
          },
          "metadata": {}
        }
      ]
    },
    {
      "cell_type": "code",
      "source": [
        "test()"
      ],
      "metadata": {
        "colab": {
          "base_uri": "https://localhost:8080/"
        },
        "id": "v1BAnH19fNo2",
        "outputId": "cf6008b9-c4ff-4f7c-b9d6-36c6cc11f0f1"
      },
      "execution_count": 35,
      "outputs": [
        {
          "output_type": "stream",
          "name": "stdout",
          "text": [
            "Test loss: 0.0191131868180196, test accuracy: 80.18000030517578\n"
          ]
        }
      ]
    }
  ]
}